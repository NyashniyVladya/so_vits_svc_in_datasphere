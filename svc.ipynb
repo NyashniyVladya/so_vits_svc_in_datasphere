{
 "cells": [
  {
   "cell_type": "code",
   "execution_count": 19,
   "id": "459e8001",
   "metadata": {
    "cellId": "qrx47edku7m0ojmfmhav8"
   },
   "outputs": [],
   "source": [
    "#pragma dataset init dataset_raw --size 1Gb\n",
    "# Input dataset name in path:\n",
    "!set -e\n",
    "import svc_py\n",
    "svc_py.convert_folder(\"iluha/\", \"/home/jupyter/mnt/datasets/dataset_raw/iluha/\")\n",
    "# Dataset will be created in /home/jupyter/mnt/datasets/NAME"
   ]
  },
  {
   "cell_type": "code",
   "execution_count": null,
   "id": "42ef6f4a",
   "metadata": {
    "cellId": "wpmfurmkjt9t96105vc9w"
   },
   "outputs": [],
   "source": [
    "#!g1.1\n",
    "!svc pre-resample --input-dir /home/jupyter/mnt/datasets/dataset_raw\n",
    "!svc pre-config\n",
    "# Настроить epoch в файле, после этого шага."
   ]
  },
  {
   "cell_type": "code",
   "execution_count": null,
   "id": "0cbcdba4",
   "metadata": {
    "cellId": "bjhgg30bj46yk2gqxjgpei"
   },
   "outputs": [],
   "source": [
    "#!g1.1\n",
    "!svc pre-hubert -fm crepe -n 2"
   ]
  },
  {
   "cell_type": "code",
   "execution_count": null,
   "id": "a7a635a1",
   "metadata": {
    "cellId": "pyh82jdmnpp0fzzl5gsyd"
   },
   "outputs": [],
   "source": [
    "#!g1.1\n",
    "!svc train --model-path trained_results"
   ]
  }
 ],
 "metadata": {
  "language_info": {
   "codemirror_mode": {
    "name": "ipython",
    "version": 3
   },
   "file_extension": ".py",
   "mimetype": "text/x-python",
   "name": "python",
   "nbconvert_exporter": "python",
   "pygments_lexer": "ipython3",
   "version": "3.7.7"
  },
  "notebookId": "03f4e71f-5959-4e43-b20e-0bab6d069685",
  "notebookPath": "svc.ipynb"
 },
 "nbformat": 4,
 "nbformat_minor": 5
}

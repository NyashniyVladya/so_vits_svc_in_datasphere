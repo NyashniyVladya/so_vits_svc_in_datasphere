{
 "cells": [
  {
   "cell_type": "code",
   "execution_count": null,
   "id": "e21a84fd",
   "metadata": {
    "cellId": "c7dancjoyavv91szffdxqb"
   },
   "outputs": [],
   "source": [
    "#!g1.1\n",
    "# Ставим so-vits-svc-fork и нужны пакеты для работы.\n",
    "%pip install -U tensorflow\n",
    "%pip install -U ffmpeg-python librosa soundfile\n",
    "%pip install -U torch torchaudio --index-url https://download.pytorch.org/whl/cu118\n",
    "%pip install -U so-vits-svc-fork\n",
    "%pip install -U https://github.com/NyashniyVladya/so_vits_svc_in_datasphere/archive/refs/heads/main.zip\n",
    "\n",
    "# Ставим нужные версии пакетов.\n",
    "RUN pip install numpy==1.21\n",
    "RUN pip install protobuf==3.20.*"
   ]
  },
  {
   "cell_type": "code",
   "execution_count": null,
   "id": "0640c533",
   "metadata": {
    "cellId": "qrx47edku7m0ojmfmhav8"
   },
   "outputs": [],
   "source": [
    "#!g1.1\n",
    "#pragma dataset init dataset_raw --size 1Gb\n",
    "!set -e\n",
    "import svc_py\n",
    "svc_py.convert_folder(\"NAME/\", \"/home/jupyter/mnt/datasets/dataset_raw/NAME/\")"
   ]
  },
  {
   "cell_type": "code",
   "execution_count": null,
   "id": "e31ed44f",
   "metadata": {
    "cellId": "wpmfurmkjt9t96105vc9w"
   },
   "outputs": [],
   "source": [
    "#!g1.1\n",
    "!svc pre-resample --input-dir /home/jupyter/mnt/datasets/dataset_raw\n",
    "!svc pre-config\n",
    "# Настроить epoch в файле, после этого шага."
   ]
  },
  {
   "cell_type": "code",
   "execution_count": null,
   "id": "93c81709",
   "metadata": {
    "cellId": "bjhgg30bj46yk2gqxjgpei"
   },
   "outputs": [],
   "source": [
    "#!g1.1\n",
    "!svc pre-hubert -fm crepe -n 2"
   ]
  },
  {
   "cell_type": "code",
   "execution_count": null,
   "id": "62e8782d",
   "metadata": {
    "cellId": "pyh82jdmnpp0fzzl5gsyd"
   },
   "outputs": [],
   "source": [
    "#!g1.1\n",
    "!svc train --model-path trained_results"
   ]
  }
 ],
 "metadata": {
  "language_info": {
   "codemirror_mode": {
    "name": "ipython",
    "version": 3
   },
   "file_extension": ".py",
   "mimetype": "text/x-python",
   "name": "python",
   "nbconvert_exporter": "python",
   "pygments_lexer": "ipython3",
   "version": "3.7.7"
  },
  "notebookId": "03f4e71f-5959-4e43-b20e-0bab6d069685",
  "notebookPath": "svc.ipynb"
 },
 "nbformat": 4,
 "nbformat_minor": 5
}

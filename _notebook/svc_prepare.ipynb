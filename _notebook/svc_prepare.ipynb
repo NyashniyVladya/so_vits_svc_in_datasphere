{
 "cells": [
  {
   "cell_type": "code",
   "execution_count": null,
   "id": "f7d67737",
   "metadata": {
    "cellId": "zbtbg85pgt8n8dtmad86af"
   },
   "outputs": [],
   "source": [
    "# Подготовка файлов датасета.\n",
    "\n",
    "# Скачиваем static версию ffmpeg в папку 'ffmpeg_static'.\n",
    "\n",
    "!rm -rf /home/jupyter/work/resources/ffmpeg_tmp\n",
    "!rm -rf /home/jupyter/work/resources/ffmpeg_static\n",
    "!rm -rf /home/jupyter/work/resources/_cropped_audio\n",
    "\n",
    "!mkdir /home/jupyter/work/resources/ffmpeg_tmp\n",
    "!wget -O /home/jupyter/work/resources/ffmpeg_tmp/ffmpeg_tmp.tar.xz https://johnvansickle.com/ffmpeg/releases/ffmpeg-release-amd64-static.tar.xz\n",
    "!tar -xf /home/jupyter/work/resources/ffmpeg_tmp/ffmpeg_tmp.tar.xz --directory /home/jupyter/work/resources/ffmpeg_tmp\n",
    "!cp -rf /home/jupyter/work/resources/ffmpeg_tmp/ffmpeg-6.0-amd64-static /home/jupyter/work/resources/ffmpeg_static\n",
    "\n",
    "# Нарезаем аудио из исходников в папку.\n",
    "\n",
    "# Пакеты для нарезки аудио.\n",
    "%pip install -U ffmpeg-python librosa soundfile numpy==1.19.2\n",
    "%pip install -U https://github.com/NyashniyVladya/so_vits_svc_in_datasphere/archive/refs/heads/main.zip\n",
    "\n",
    "import svc_py\n",
    "svc_py.convert_folder(\"/home/jupyter/work/resources/NAME\", \"/home/jupyter/work/resources/_cropped_audio\", cmd=\"/home/jupyter/work/resources/ffmpeg_static/ffmpeg\")\n",
    "\n",
    "!rm -rf /home/jupyter/work/resources/NAME\n",
    "!rm -rf /home/jupyter/work/resources/ffmpeg_tmp\n",
    "!rm -rf /home/jupyter/work/resources/ffmpeg_static"
   ]
  },
  {
   "cell_type": "code",
   "execution_count": null,
   "id": "de91dab2",
   "metadata": {
    "cellId": "l5vaf55ci9r2wdvmhkipnr"
   },
   "outputs": [],
   "source": [
    "# Подготовка пакетов.\n",
    "\n",
    "# Ставим so-vits-svc-fork и нужные пакеты для работы.\n",
    "%pip install -U torch torchaudio --index-url https://download.pytorch.org/whl/cu118\n",
    "%pip install -U so-vits-svc-fork\n",
    "\n",
    "# Ставим нужные версии пакетов.\n",
    "%pip install numpy==1.21\n",
    "%pip install protobuf==3.20.*"
   ]
  },
  {
   "cell_type": "code",
   "execution_count": null,
   "id": "5d05e85c",
   "metadata": {
    "cellId": "85zpw2558sl7824xfemqog"
   },
   "outputs": [],
   "source": [
    "# Создаём датасет.\n",
    "\n",
    "#pragma dataset init dataset_raw --size 1Gb\n",
    "!set -e\n",
    "!cp -rf \"/home/jupyter/work/resources/_cropped_audio\" \"/home/jupyter/mnt/datasets/dataset_raw/NAME/\""
   ]
  },
  {
   "cell_type": "code",
   "execution_count": null,
   "id": "7dd282a8",
   "metadata": {
    "cellId": "5vbbwo5dhidtln0dxwrhz"
   },
   "outputs": [],
   "source": [
    "!rm -rf /home/jupyter/work/resources/_cropped_audio"
   ]
  }
 ],
 "metadata": {
  "language_info": {
   "codemirror_mode": {
    "name": "ipython",
    "version": 3
   },
   "file_extension": ".py",
   "mimetype": "text/x-python",
   "name": "python",
   "nbconvert_exporter": "python",
   "pygments_lexer": "ipython3",
   "version": "3.7.7"
  },
  "notebookId": "34a6734d-8f27-45a4-92dd-63dd2572e16d",
  "notebookPath": "Untitled.ipynb"
 },
 "nbformat": 4,
 "nbformat_minor": 5
}

{
 "cells": [
  {
   "cell_type": "code",
   "execution_count": null,
   "id": "a42548b2",
   "metadata": {
    "cellId": "8bvdq63x6av794zuh0o47e",
    "execution_id": "605925bb-1179-47e0-bf74-424e18994289"
   },
   "outputs": [],
   "source": [
    "#!g1.1\n",
    "from os import path\n",
    "_new_dirs = (\n",
    "    \"/home/jupyter/.local/bin\",\n",
    ")\n",
    "_tmp_path = %env PATH\n",
    "_tmp_path = list(map(path.abspath, _tmp_path.split(':')))\n",
    "for _new_dir in map(path.abspath, _new_dirs):\n",
    "    if _new_dir in _tmp_path:\n",
    "        continue\n",
    "    _tmp_path.insert(0, _new_dir)\n",
    "_tmp_path = ':'.join(_tmp_path)\n",
    "%env PATH=$_tmp_path"
   ]
  },
  {
   "cell_type": "code",
   "execution_count": null,
   "id": "fdb5375b",
   "metadata": {
    "cellId": "yyyr83kx0rp7r7oqn5yeay",
    "execution_id": "63dbb784-70d8-4bda-a347-8ce941fb89be"
   },
   "outputs": [],
   "source": [
    "#!g1.1\n",
    "!svc infer -o \"generate_result/track.wav\" -s NAME -m trained_results -fm crepe -na \"input_data/track.wav\""
   ]
  }
 ],
 "metadata": {
  "language_info": {
   "codemirror_mode": {
    "name": "ipython",
    "version": 3
   },
   "file_extension": ".py",
   "mimetype": "text/x-python",
   "name": "python",
   "nbconvert_exporter": "python",
   "pygments_lexer": "ipython3",
   "version": "3.7.7"
  },
  "notebookId": "3d36be7d-dda8-4fcc-baed-a75a1132d05d",
  "notebookPath": "infer.ipynb"
 },
 "nbformat": 4,
 "nbformat_minor": 5
}

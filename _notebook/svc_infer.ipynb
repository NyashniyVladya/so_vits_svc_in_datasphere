{
 "cells": [
  {
   "cell_type": "code",
   "execution_count": null,
   "id": "66be84e5",
   "metadata": {
    "cellId": "klz2i9mnuqn7be06w1edvt"
   },
   "outputs": [],
   "source": [
    "#!g1.1\n",
    "from os import path\n",
    "_new_dirs = (\n",
    "    \"/home/jupyter/.local/bin\",\n",
    ")\n",
    "_tmp_path = %env PATH\n",
    "_tmp_path = list(map(path.abspath, _tmp_path.split(':')))\n",
    "for _new_dir in map(path.abspath, _new_dirs):\n",
    "    if _new_dir in _tmp_path:\n",
    "        continue\n",
    "    _tmp_path.insert(0, _new_dir)\n",
    "_tmp_path = ':'.join(_tmp_path)\n",
    "%env PATH=$_tmp_path"
   ]
  },
  {
   "cell_type": "code",
   "execution_count": null,
   "id": "a7cff648",
   "metadata": {
    "cellId": "9s3ikmvu73dl52r2fsr1"
   },
   "outputs": [],
   "source": [
    "#!g1.1:bash\n",
    "\n",
    "input_name=\"input_data/INPUT.mp3\"\n",
    "output_name=\"generate_result/OUTPUT.mp3\"\n",
    "model_name=\"crepe\"\n",
    "speaker=\"NAME\"\n",
    "transpose=0\n",
    "is_song=1\n",
    "\n",
    "_tmp_wav1=\"input_data/_temp.wav\"\n",
    "_tmp_wav2=\"generate_result/_temp2.wav\"\n",
    "\n",
    "rm -rf $_tmp_wav1\n",
    "rm -rf $_tmp_wav2\n",
    "\n",
    "ffmpeg -i $input_name $_tmp_wav1\n",
    "\n",
    "if [ $is_song -ne 0 ]; then\n",
    "    svc infer -o $_tmp_wav2 -s $speaker -m trained_results -fm $model_name --transpose $transpose -na $_tmp_wav1\n",
    "else\n",
    "    svc infer -o $_tmp_wav2 -s $speaker -m trained_results -fm $model_name -a $_tmp_wav1\n",
    "fi\n",
    "\n",
    "ffmpeg -i $_tmp_wav2 $output_name\n",
    "\n",
    "rm -rf $_tmp_wav1\n",
    "rm -rf $_tmp_wav2\n",
    "\n",
    "exit 0"
   ]
  }
 ],
 "metadata": {
  "language_info": {
   "codemirror_mode": {
    "name": "ipython",
    "version": 3
   },
   "file_extension": ".py",
   "mimetype": "text/x-python",
   "name": "python",
   "nbconvert_exporter": "python",
   "pygments_lexer": "ipython3",
   "version": "3.7.7"
  },
  "notebookId": "6a8d155f-ac17-4a29-bacc-09116e77083b",
  "notebookPath": "svc_infer.ipynb"
 },
 "nbformat": 4,
 "nbformat_minor": 5
}

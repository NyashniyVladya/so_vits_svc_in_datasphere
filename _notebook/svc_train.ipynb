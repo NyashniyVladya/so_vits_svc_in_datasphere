{
 "cells": [
  {
   "cell_type": "code",
   "execution_count": null,
   "id": "0ccd77b1",
   "metadata": {
    "cellId": "oi9n5njs1bageroskgtgk"
   },
   "outputs": [],
   "source": [
    "#!g1.1\n",
    "from os import path\n",
    "_new_dirs = (\n",
    "    \"/home/jupyter/.local/bin\",\n",
    ")\n",
    "_tmp_path = %env PATH\n",
    "_tmp_path = list(map(path.abspath, _tmp_path.split(':')))\n",
    "for _new_dir in map(path.abspath, _new_dirs):\n",
    "    if _new_dir in _tmp_path:\n",
    "        continue\n",
    "    _tmp_path.insert(0, _new_dir)\n",
    "_tmp_path = ':'.join(_tmp_path)\n",
    "%env PATH=$_tmp_path"
   ]
  },
  {
   "cell_type": "code",
   "execution_count": null,
   "id": "e05bc0d8",
   "metadata": {
    "cellId": "pp2gau5g9xw2gzjf4cf"
   },
   "outputs": [],
   "source": [
    "#!g1.1:bash\n",
    "svc pre-resample --input-dir /home/jupyter/mnt/datasets/dataset_raw\n",
    "svc pre-config\n",
    "# Настроить epoch в файле, после этого шага."
   ]
  },
  {
   "cell_type": "code",
   "execution_count": null,
   "id": "b65c0da4",
   "metadata": {
    "cellId": "6ep3i1pti3ugvdy11ue786"
   },
   "outputs": [],
   "source": [
    "#!g1.1:bash\n",
    "svc pre-hubert -fm crepe -n 2"
   ]
  },
  {
   "cell_type": "code",
   "execution_count": null,
   "id": "01589d8f",
   "metadata": {
    "cellId": "f3biqc9cyw6ths6r54e05e"
   },
   "outputs": [],
   "source": [
    "#!g1.1:bash\n",
    "svc train --model-path trained_results"
   ]
  }
 ],
 "metadata": {
  "language_info": {
   "codemirror_mode": {
    "name": "ipython",
    "version": 3
   },
   "file_extension": ".py",
   "mimetype": "text/x-python",
   "name": "python",
   "nbconvert_exporter": "python",
   "pygments_lexer": "ipython3",
   "version": "3.7.7"
  },
  "notebookId": "8a8e307c-edcf-479a-af5a-1303dd98fcde",
  "notebookPath": "Untitled.ipynb"
 },
 "nbformat": 4,
 "nbformat_minor": 5
}
